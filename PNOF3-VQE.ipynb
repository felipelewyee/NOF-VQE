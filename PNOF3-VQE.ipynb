{
 "cells": [
  {
   "cell_type": "markdown",
   "id": "bac0d812-2ad1-4093-9185-640ec95e6c1c",
   "metadata": {},
   "source": [
    "# PNOF3-VQE\n",
    "\n",
    "Most common natural orbital functionals (NOFs) can be represented using the energy expression\n",
    "\\begin{equation*}\n",
    "  E = 2 \\sum_p n_p H_{pp} + \\sum_{pq} A_{pq} J_{qp} - \\sum_{pq} B_{pq} K_{qp} - \\sum_{pq} C_{pq} L_{qp}\n",
    "\\end{equation*}\n",
    "with $p$ and $q$ corresponding to spatial natural orbitals, and $n_p \\in [0,1]$ denoting the occupation number of the $p^{th}$-orbital. Complementary, the associated hole is given by $h_p = 1 - n_p$. These NOFs can be classified according to the integrals that appear in their functional expression.\n",
    "\n",
    "**PNOF3** is a $JKL$-type functional with the following coefficients:\n",
    "\n",
    "\\begin{equation*}\n",
    "    A_{pq} = \\begin{cases}\n",
    "        2(n_p n_q - \\Delta_{pq}), & \\text{if $p \\neq q$} \\\\\n",
    "        n_p, & \\text{if $p = q$} \\\\\n",
    "  \\end{cases} \n",
    "\\end{equation*}\n",
    "\n",
    "\\begin{equation*}\n",
    "    B_{pq} = \\begin{cases}\n",
    "        n_p n_q - \\Delta_{pq}, & \\text{if $p \\neq q$} \\\\\n",
    "        0, & \\text{if $p=q$} \\\\\n",
    "  \\end{cases} \n",
    "\\end{equation*}\n",
    "\n",
    "\\begin{equation*}\n",
    "    C_{pq} = \\begin{cases}\n",
    "        -n_p n_q + \\sqrt{n_p n_q}, & \\text{if $p \\leq F$, $q \\leq F$, $p \\neq q$} \\\\\n",
    "        -n_p n_q + \\sqrt{n_p n_q} + \\sqrt{h_p n_q}, & \\text{if $p \\leq F$, $q > F$} \\\\\n",
    "        -n_p n_q + \\sqrt{n_p n_q} + \\sqrt{h_q n_p}, & \\text{if $p > F$, $q \\leq F$} \\\\\n",
    "        -n_p n_q - \\sqrt{n_p n_q}, & \\text{if $p > F$, $q > F$, $p \\neq q$} \\\\\n",
    "        0, & \\text{if $p = q$} \\\\\n",
    "  \\end{cases} \n",
    "\\end{equation*}\n",
    "\n",
    "with $F = \\mathbb{N}/2$ corresponding to the Fermi level and $\\mathbb{N}$ indicating the number of electrons. In addition, we also define the following auxiliary matrices:\n",
    "\\begin{equation*}\n",
    "    \\Delta_{pq} = \\begin{cases}\n",
    "        h_p h_q, & \\text{if $p \\leq F$, $q \\leq F$, $p \\neq q$} \\\\\n",
    "        \\left(\\frac{1-S_F}{S_F}\\right) h_p n_q, & \\text{if $p \\leq F$, $q > F$}\\\\\n",
    "        \\left(\\frac{1-S_F}{S_F}\\right) n_p h_q, & \\text{if $p > F$, $q \\leq F$}\\\\\n",
    "        n_p n_q, & \\text{if $p > F$, $q > F$, $p \\neq q$} \\\\\n",
    "  \\end{cases} \n",
    "\\end{equation*}\n",
    "\n",
    "and\n",
    "\\begin{equation*}\n",
    "    S_F = \\sum_{p=1}^F h_p = \\sum_{p=F+1}^\\infty n_p\n",
    "\\end{equation*}\n",
    "\n",
    "Finally, for real orbitals, as used in this work, $L_{pq} = K_{pq}$."
   ]
  },
  {
   "cell_type": "markdown",
   "id": "9698c6a7-d02b-4ed5-8ef6-66e8d0779a00",
   "metadata": {},
   "source": [
    "We start by importing some **libraries**"
   ]
  },
  {
   "cell_type": "code",
   "execution_count": 14,
   "id": "abd44ba3-6fd0-4308-8c42-dd7ab510282b",
   "metadata": {},
   "outputs": [],
   "source": [
    "import pennylane as qml\n",
    "from pennylane import numpy as pnp\n",
    "\n",
    "from pennylane import FermiC, FermiA\n",
    "from pennylane import jordan_wigner\n",
    "\n",
    "import jax\n",
    "from jax import numpy as jnp\n",
    "\n",
    "jax.config.update(\"jax_enable_x64\", True)"
   ]
  },
  {
   "cell_type": "markdown",
   "id": "7e39cb4a-cded-4c66-8147-89fd0c9a69d6",
   "metadata": {},
   "source": [
    "For exemplification purposes, we define a **system**, in this case $H_2$ at the bonding distance. We also compute monoelectronic and bielectronic integrals and other useful data."
   ]
  },
  {
   "cell_type": "code",
   "execution_count": 15,
   "id": "5163b9f2-7fc3-44d0-8fac-4855694f7775",
   "metadata": {},
   "outputs": [],
   "source": [
    "symbols = [\"H\", \"H\"]\n",
    "geometry = pnp.array([[0.0, 0.0, 0.0], [0.7414, 0.0, 0.0]], requires_grad=False)\n",
    "\n",
    "mol = qml.qchem.Molecule(symbols, geometry, unit=\"angstrom\")\n",
    "core, h_MO, I_MO = qml.qchem.electron_integrals(mol)()\n",
    "E_nuc = core[0]\n",
    "\n",
    "norb = pnp.shape(h_MO)[0]\n",
    "qubits = 2 * norb\n",
    "\n",
    "electrons = mol.n_electrons\n",
    "\n",
    "# Fermi level\n",
    "F = int(electrons / 2)"
   ]
  },
  {
   "cell_type": "markdown",
   "id": "f8fed2d2-1336-4016-8e44-cc8972294e18",
   "metadata": {},
   "source": [
    "The **ansatz** is built using Hartree-Fock as the reference state and a double excitation gate. Other ansatz can be used for more complex systems."
   ]
  },
  {
   "cell_type": "code",
   "execution_count": 16,
   "id": "e92ca14f",
   "metadata": {},
   "outputs": [],
   "source": [
    "hf_state = [1] * electrons + [0] * (qubits - electrons)\n",
    "\n",
    "def ansatz(params):\n",
    "    qml.BasisState(hf_state, wires=range(4))\n",
    "    qml.DoubleExcitation(params, wires=[0, 1, 2, 3])"
   ]
  },
  {
   "cell_type": "markdown",
   "id": "85aa5252",
   "metadata": {},
   "source": [
    "We build the second quantization **operators for the 1RDM** and **map** them to Pauli operators using Jordan-Wigner. Then we create a **circuit to measure the 1RDM**.\n",
    "\n",
    "Note that we are actually measuring the triangular part of $\\Gamma^\\alpha$ and ensuring to be in the domain of reals:\n",
    "\\begin{equation*}\n",
    "\\hat{\\Gamma}^\\alpha_{qp} = \\frac{\\hat{a}_{2q}^\\dagger \\hat{a}_{2p} + \\hat{a}_{2p}^\\dagger \\hat{a}_{2q}}{2}   \n",
    "\\end{equation*}"
   ]
  },
  {
   "cell_type": "code",
   "execution_count": 17,
   "id": "98366169",
   "metadata": {},
   "outputs": [],
   "source": [
    "rdm1_ops = []\n",
    "for p in range(0, norb):\n",
    "    for q in range(p, norb):\n",
    "        cpaq = jordan_wigner(0.5 * (FermiC(2 * p) * FermiA(2 * q) + FermiC(2 * q) * FermiA(2 * p))).simplify()\n",
    "        #### everything is real by construction\n",
    "        #### cast coefficients to jax reals to avoid warnings with zero values in imaginary parts\n",
    "        coeffs = jnp.real(jnp.array(cpaq.terms()[0]))\n",
    "        obs = cpaq.terms()[1]\n",
    "        cpaq = coeffs[0] * obs[0]\n",
    "        for coeff, op in zip(coeffs[1:], obs[1:]):\n",
    "            cpaq += coeff * op\n",
    "        ####\n",
    "        rdm1_ops.append(cpaq)\n",
    "\n",
    "dev = qml.device(\"lightning.qubit\", wires=qubits)\n",
    "\n",
    "@qml.qnode(dev)\n",
    "def rdm1_circuit(params):\n",
    "    ansatz(params)\n",
    "    return [qml.expval(op) for op in rdm1_ops]"
   ]
  },
  {
   "cell_type": "markdown",
   "id": "1dc4fd26",
   "metadata": {},
   "source": [
    "The 1RDM is diagonalized to get the **natural orbital representation**"
   ]
  },
  {
   "cell_type": "code",
   "execution_count": 18,
   "id": "6b9dba50",
   "metadata": {},
   "outputs": [],
   "source": [
    "def get_no_on(rdm1):\n",
    "\n",
    "    rdm1_aa = jnp.zeros((norb, norb))\n",
    "\n",
    "    i = -1\n",
    "    for p in range(0, norb):\n",
    "        for q in range(p, norb):\n",
    "            i = i + 1\n",
    "            rdm1_aa = rdm1_aa.at[p, q].set(rdm1[i])\n",
    "            rdm1_aa = rdm1_aa.at[q, p].set(rdm1[i])\n",
    "\n",
    "    n, vecs = jnp.linalg.eigh(rdm1_aa)\n",
    "\n",
    "    n = n[::-1]\n",
    "    vecs = vecs[:, ::-1]\n",
    "\n",
    "    return n, vecs"
   ]
  },
  {
   "cell_type": "markdown",
   "id": "80a938f7",
   "metadata": {},
   "source": [
    "## PNOF3\n",
    "\n",
    "Here, we implement a function that:\n",
    "  - Measures (or receives) a 1RDM\n",
    "  - Diagonalizes the 1RDM to generate occupation numbers and natural orbitals\n",
    "  - Transforms the integrals and computes $E_\\text{NOF}$"
   ]
  },
  {
   "cell_type": "code",
   "execution_count": 19,
   "id": "29fd3d15",
   "metadata": {},
   "outputs": [],
   "source": [
    "def E_PNOF3(params, rdm1=None):\n",
    "\n",
    "    if rdm1 is None:\n",
    "        rdm1 = rdm1_circuit(params)\n",
    "    n, vecs = get_no_on(rdm1)\n",
    "\n",
    "    h = 1 - n\n",
    "\n",
    "    h_NO = jnp.einsum(\"ij,ip,jq->pq\", h_MO, vecs, vecs, optimize=True)\n",
    "    J_NO = jnp.einsum(\"ijkl,ip,jq,kq,lp->pq\", I_MO, vecs, vecs, vecs, vecs, optimize=True)\n",
    "    K_NO = jnp.einsum(\"ijkl,ip,jp,kq,lq->pq\", I_MO, vecs, vecs, vecs, vecs, optimize=True)\n",
    "\n",
    "    S_F = jnp.sum(n[F:])\n",
    "\n",
    "    Delta = jnp.zeros((norb, norb))\n",
    "    for p in range(norb):\n",
    "        for q in range(norb):\n",
    "            val = 0\n",
    "            if p < F and q < F:\n",
    "                val = h[q] * h[p]\n",
    "            if p < F and q >= F:\n",
    "                val = (1 - S_F) / S_F * n[q] * h[p]\n",
    "            if p >= F and q < F:\n",
    "                val = (1 - S_F) / S_F * h[q] * n[p]\n",
    "            if p >= F and q >= F:\n",
    "                val = n[q] * n[p]\n",
    "            Delta = Delta.at[q, p].set(val)\n",
    "\n",
    "    Pi = jnp.zeros((norb, norb))\n",
    "    for p in range(norb):\n",
    "        for q in range(norb):\n",
    "            val = 0\n",
    "            if p < F and q < F:\n",
    "                val = n[p] * n[q] - jnp.sqrt(jnp.abs(n[p] * n[q]))\n",
    "            if p < F and q >= F:\n",
    "                val = n[p] * n[q] - jnp.sqrt(jnp.abs(n[p] * n[q])) - jnp.sqrt(jnp.abs(h[p] * n[q]))\n",
    "            if p >= F and q < F:\n",
    "                val = n[p] * n[q] - jnp.sqrt(jnp.abs(n[p] * n[q])) - jnp.sqrt(jnp.abs(h[q] * n[p]))\n",
    "            if p >= F and q >= F:\n",
    "                val = n[p] * n[q] + jnp.sqrt(jnp.abs(n[p] * n[q]))\n",
    "            Pi = Pi.at[q, p].set(val)\n",
    "\n",
    "    E1 = 0\n",
    "    for p in range(norb):\n",
    "        E1 += 2 * n[p] * h_NO[p, p]\n",
    "    for p in range(norb):\n",
    "        E1 += n[p] * J_NO[p, p]\n",
    "\n",
    "    E2 = 0\n",
    "    for p in range(norb):\n",
    "        for q in range(norb):\n",
    "            if p != q:\n",
    "                E2 += (n[q] * n[p] - Delta[q, p]) * (2 * J_NO[p, q] - K_NO[p, q])\n",
    "                E2 += Pi[q, p] * (K_NO[p, q])\n",
    "\n",
    "    return E_nuc + E1 + E2"
   ]
  },
  {
   "cell_type": "markdown",
   "id": "a6d3f25e-758c-4458-8531-76a2c997f492",
   "metadata": {},
   "source": [
    "We assign a **value to the parameter**. For $H_2$, the value corresponding to the *exact* wavefunction is $\\theta=0.22501$."
   ]
  },
  {
   "cell_type": "code",
   "execution_count": 20,
   "id": "ac77c5a4-f73f-42ec-9f2a-82e3f6a1d29c",
   "metadata": {},
   "outputs": [],
   "source": [
    "params = 0.22501"
   ]
  },
  {
   "cell_type": "markdown",
   "id": "2d0d9de5-c987-447a-931e-98c82064d8f8",
   "metadata": {},
   "source": [
    "Finally, we evaluate the **energy** $E_\\text{PNOF3}$"
   ]
  },
  {
   "cell_type": "code",
   "execution_count": 21,
   "id": "f5148b81",
   "metadata": {},
   "outputs": [
    {
     "data": {
      "text/plain": [
       "Array(-1.13732726, dtype=float64)"
      ]
     },
     "execution_count": 21,
     "metadata": {},
     "output_type": "execute_result"
    }
   ],
   "source": [
    "E_PNOF3(params)"
   ]
  },
  {
   "cell_type": "markdown",
   "id": "537e458d",
   "metadata": {},
   "source": [
    "The **gradient** of ${d E_\\text{PNOF3}}/{d\\theta}$ at this value is"
   ]
  },
  {
   "cell_type": "code",
   "execution_count": 22,
   "id": "97a34dd5",
   "metadata": {},
   "outputs": [
    {
     "data": {
      "text/plain": [
       "Array(-0.00193028, dtype=float64)"
      ]
     },
     "execution_count": 22,
     "metadata": {},
     "output_type": "execute_result"
    }
   ],
   "source": [
    "jax.grad(E_PNOF3)(params)"
   ]
  },
  {
   "cell_type": "markdown",
   "id": "d1b3b19f",
   "metadata": {},
   "source": [
    "## Minimization\n",
    "\n",
    "In the following we define the VQE and optimize the parameter starting with a guess value using $E_\\text{PNOF3}$ as the objective value."
   ]
  },
  {
   "cell_type": "code",
   "execution_count": 23,
   "id": "030111fe",
   "metadata": {},
   "outputs": [],
   "source": [
    "import matplotlib.pyplot as plt\n",
    "import optax\n",
    "\n",
    "max_iterations = 1000\n",
    "conv_tol = 1e-3"
   ]
  },
  {
   "cell_type": "code",
   "execution_count": 24,
   "id": "3189adfe",
   "metadata": {},
   "outputs": [],
   "source": [
    "def vqe(E_fn, params):\n",
    "    opt = optax.sgd(learning_rate=0.1)\n",
    "    opt_state = opt.init(params)\n",
    "\n",
    "    E_history = [E_fn(params)]\n",
    "    params_history = [params]\n",
    "\n",
    "    for it in range(max_iterations):\n",
    "\n",
    "        gradient = jax.grad(E_fn)(params)\n",
    "\n",
    "        updates, opt_state = opt.update(gradient, opt_state)\n",
    "        params = optax.apply_updates(params, updates)\n",
    "\n",
    "        params_history.append(params)\n",
    "        E_history.append(E_fn(params))\n",
    "\n",
    "        g_maxabs = jnp.max(jnp.abs(gradient))\n",
    "\n",
    "        print(f\"Step = {it},  Energy = {E_history[-1]:.8f} Ha,  Gradient = {g_maxabs:.1e}\")\n",
    "\n",
    "        if g_maxabs <= conv_tol:\n",
    "            break\n",
    "\n",
    "    return E_history, params_history"
   ]
  },
  {
   "cell_type": "code",
   "execution_count": 25,
   "id": "45de6aea",
   "metadata": {},
   "outputs": [
    {
     "name": "stdout",
     "output_type": "stream",
     "text": [
      "Step = 0,  Energy = -1.13184383 Ha,  Gradient = 1.0e-01\n",
      "Step = 1,  Energy = -1.13268609 Ha,  Gradient = 9.4e-02\n",
      "Step = 2,  Energy = -1.13339897 Ha,  Gradient = 8.6e-02\n",
      "Step = 3,  Energy = -1.13400233 Ha,  Gradient = 7.9e-02\n",
      "Step = 4,  Energy = -1.13451298 Ha,  Gradient = 7.3e-02\n",
      "Step = 5,  Energy = -1.13494518 Ha,  Gradient = 6.7e-02\n",
      "Step = 6,  Energy = -1.13531097 Ha,  Gradient = 6.2e-02\n",
      "Step = 7,  Energy = -1.13562058 Ha,  Gradient = 5.7e-02\n",
      "Step = 8,  Energy = -1.13588263 Ha,  Gradient = 5.2e-02\n",
      "Step = 9,  Energy = -1.13610445 Ha,  Gradient = 4.8e-02\n",
      "Step = 10,  Energy = -1.13629222 Ha,  Gradient = 4.4e-02\n",
      "Step = 11,  Energy = -1.13645117 Ha,  Gradient = 4.1e-02\n",
      "Step = 12,  Energy = -1.13658574 Ha,  Gradient = 3.7e-02\n",
      "Step = 13,  Energy = -1.13669967 Ha,  Gradient = 3.4e-02\n",
      "Step = 14,  Energy = -1.13679612 Ha,  Gradient = 3.2e-02\n",
      "Step = 15,  Energy = -1.13687780 Ha,  Gradient = 2.9e-02\n",
      "Step = 16,  Energy = -1.13694695 Ha,  Gradient = 2.7e-02\n",
      "Step = 17,  Energy = -1.13700551 Ha,  Gradient = 2.5e-02\n",
      "Step = 18,  Energy = -1.13705510 Ha,  Gradient = 2.3e-02\n",
      "Step = 19,  Energy = -1.13709709 Ha,  Gradient = 2.1e-02\n",
      "Step = 20,  Energy = -1.13713265 Ha,  Gradient = 1.9e-02\n",
      "Step = 21,  Energy = -1.13716277 Ha,  Gradient = 1.8e-02\n",
      "Step = 22,  Energy = -1.13718828 Ha,  Gradient = 1.6e-02\n",
      "Step = 23,  Energy = -1.13720989 Ha,  Gradient = 1.5e-02\n",
      "Step = 24,  Energy = -1.13722819 Ha,  Gradient = 1.4e-02\n",
      "Step = 25,  Energy = -1.13724369 Ha,  Gradient = 1.3e-02\n",
      "Step = 26,  Energy = -1.13725682 Ha,  Gradient = 1.2e-02\n",
      "Step = 27,  Energy = -1.13726795 Ha,  Gradient = 1.1e-02\n",
      "Step = 28,  Energy = -1.13727737 Ha,  Gradient = 9.9e-03\n",
      "Step = 29,  Energy = -1.13728535 Ha,  Gradient = 9.1e-03\n",
      "Step = 30,  Energy = -1.13729211 Ha,  Gradient = 8.4e-03\n",
      "Step = 31,  Energy = -1.13729784 Ha,  Gradient = 7.7e-03\n",
      "Step = 32,  Energy = -1.13730269 Ha,  Gradient = 7.1e-03\n",
      "Step = 33,  Energy = -1.13730680 Ha,  Gradient = 6.5e-03\n",
      "Step = 34,  Energy = -1.13731029 Ha,  Gradient = 6.0e-03\n",
      "Step = 35,  Energy = -1.13731324 Ha,  Gradient = 5.5e-03\n",
      "Step = 36,  Energy = -1.13731574 Ha,  Gradient = 5.1e-03\n",
      "Step = 37,  Energy = -1.13731786 Ha,  Gradient = 4.7e-03\n",
      "Step = 38,  Energy = -1.13731965 Ha,  Gradient = 4.3e-03\n",
      "Step = 39,  Energy = -1.13732117 Ha,  Gradient = 4.0e-03\n",
      "Step = 40,  Energy = -1.13732246 Ha,  Gradient = 3.7e-03\n",
      "Step = 41,  Energy = -1.13732355 Ha,  Gradient = 3.4e-03\n",
      "Step = 42,  Energy = -1.13732447 Ha,  Gradient = 3.1e-03\n",
      "Step = 43,  Energy = -1.13732526 Ha,  Gradient = 2.9e-03\n",
      "Step = 44,  Energy = -1.13732592 Ha,  Gradient = 2.6e-03\n",
      "Step = 45,  Energy = -1.13732648 Ha,  Gradient = 2.4e-03\n",
      "Step = 46,  Energy = -1.13732696 Ha,  Gradient = 2.2e-03\n",
      "Step = 47,  Energy = -1.13732736 Ha,  Gradient = 2.1e-03\n",
      "Step = 48,  Energy = -1.13732771 Ha,  Gradient = 1.9e-03\n",
      "Step = 49,  Energy = -1.13732800 Ha,  Gradient = 1.7e-03\n",
      "Step = 50,  Energy = -1.13732824 Ha,  Gradient = 1.6e-03\n",
      "Step = 51,  Energy = -1.13732845 Ha,  Gradient = 1.5e-03\n",
      "Step = 52,  Energy = -1.13732863 Ha,  Gradient = 1.4e-03\n",
      "Step = 53,  Energy = -1.13732878 Ha,  Gradient = 1.2e-03\n",
      "Step = 54,  Energy = -1.13732890 Ha,  Gradient = 1.1e-03\n",
      "Step = 55,  Energy = -1.13732901 Ha,  Gradient = 1.1e-03\n",
      "Step = 56,  Energy = -1.13732910 Ha,  Gradient = 9.7e-04\n"
     ]
    }
   ],
   "source": [
    "E_history, params_history = vqe(E_PNOF3, 0.1)"
   ]
  },
  {
   "cell_type": "code",
   "execution_count": 26,
   "id": "87ad1563",
   "metadata": {},
   "outputs": [
    {
     "data": {
      "text/plain": [
       "<matplotlib.legend.Legend at 0x7935693bf190>"
      ]
     },
     "execution_count": 26,
     "metadata": {},
     "output_type": "execute_result"
    },
    {
     "data": {
      "image/png": "[encoded data removed]",
      "text/plain": [
       "<Figure size 640x480 with 1 Axes>"
      ]
     },
     "metadata": {},
     "output_type": "display_data"
    }
   ],
   "source": [
    "plt.plot(E_history, \"o\", label=\"PNOF3-VQE\")\n",
    "plt.hlines(-1.137270174657105, 0, len(E_history), color=\"red\", label = \"FCI\")\n",
    "plt.xlabel(\"Iterations\")\n",
    "plt.ylabel(r\"Energy ($E_\\text{h}$)\")\n",
    "plt.legend()"
   ]
  },
  {
   "cell_type": "markdown",
   "id": "7ef22e14",
   "metadata": {},
   "source": [
    "## Authors\n",
    "\n",
    "- Ph.D. Juan Felipe Huan Lew-Yee (felipe.lew.yee@dipc.org)\n",
    "  - Donostia International Physics Center (DIPC)\n",
    "- Prof. Mario Piris (mario.piris@ehu.es)\n",
    "  - Donostia International Physics Center (DIPC)\n",
    "  - Euskal Herriko Unibertsitatea (UPV/EHU)\n",
    "  - Basque Foundation for Science (Ikerbasque)\n",
    "\n",
    "## Acknowldgments\n",
    "\n",
    "- J. F. H. Lew-Yee acknowledges the **Donostia International Physics Center (DIPC)** and the **Ministerio de Ciencia, Innovación y Universidades (MCIN) program Severo Ochoa** and **Agencia Estatal de Investigación (AEI)** under reference AEI/CEX2018-000867-S for post-doctoral funding (Ref.: 2023/74.)\n",
    "\n",
    "- M. Piris acknowledges **MCIN** and **AEI** funding from MCIN/AEI/10.13039/501100011033 (Ref.: PID2021-126714 NB-I00) and the **Eusko Jaurlaritza** (Ref.: IT1584-22).\n",
    "\n",
    "- The authors acknowledge the technical and human support provided by the **DIPC Supercomputing Center**.\n",
    "\n",
    "- This work has been possible thanks to the quantum resources and ecosystem provided through the **IBM-BasQ** alliance for the development of quantum technologies.\n",
    "\n",
    "## GitHub:\n",
    "\n",
    "https://github.com/felipelewyee/NOF-VQE"
   ]
  }
 ],
 "metadata": {
  "kernelspec": {
   "display_name": "qc39",
   "language": "python",
   "name": "python3"
  },
  "language_info": {
   "codemirror_mode": {
    "name": "ipython",
    "version": 3
   },
   "file_extension": ".py",
   "mimetype": "text/x-python",
   "name": "python",
   "nbconvert_exporter": "python",
   "pygments_lexer": "ipython3",
   "version": "3.10.0"
  }
 },
 "nbformat": 4,
 "nbformat_minor": 5
}
