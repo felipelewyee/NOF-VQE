{
 "cells": [
  {
   "cell_type": "markdown",
   "id": "bac0d812-2ad1-4093-9185-640ec95e6c1c",
   "metadata": {},
   "source": [
    "# PNOF4-VQE\n",
    "\n",
    "Most common natural orbital functionals (NOFs) can be represented using the energy expression\n",
    "\\begin{equation}\n",
    "  E = 2 \\sum_p n_p H_{pp} + \\sum_{pq} A_{pq} J_{qp} - \\sum_{pq} B_{pq} K_{qp} - \\sum_{pq} C_{pq} L_{qp}\n",
    "\\end{equation}\n",
    "with $p$ and $q$ corresponding to spatial natural orbitals, and $n_p \\in [0,1]$ denoting the occupation number of the $p^{th}$-orbital. Complementary, the associated hole is given by $h_p = 1 - n_p$. These NOFs can be classified according to the integrals that appears in its functional expression.\n",
    "\n",
    "PNOF4 is a $JKL$-type functional with the following coefficients:\n",
    "\n",
    "\\begin{equation*}\n",
    "    A_{pq} = \\begin{cases}\n",
    "        2(n_p n_q - \\Delta_{pq}), & \\text{if $p \\neq q$} \\\\\n",
    "        n_p, & \\text{if $p = q$} \\\\\n",
    "  \\end{cases} \n",
    "\\end{equation*}\n",
    "\n",
    "\\begin{equation*}\n",
    "    B_{pq} = \\begin{cases}\n",
    "        n_p n_q - \\Delta_{pq}, & \\text{if $p \\neq q$} \\\\\n",
    "        0, & \\text{if $p=q$} \\\\\n",
    "  \\end{cases} \n",
    "\\end{equation*}\n",
    "\n",
    "\\begin{equation*}\n",
    "    C_{pq} = \\begin{cases}\n",
    "        \\sqrt{h_p h_q}, & \\text{if $p \\leq F$, $q \\leq F$, $p \\neq q$} \\\\\n",
    "        \\sqrt{\\frac{h_p n_q}{S_F} \\left(n_p - n_q + \\frac{h_p n_q}{S_F} \\right)}, & \\text{if $p \\leq F$, $q > F$} \\\\\n",
    "        \\sqrt{\\frac{n_p h_q}{S_F} \\left(n_q - n_p + \\frac{n_p h_q}{S_F} \\right)}, & \\text{if $p > F$, $q \\leq F$} \\\\\n",
    "        -\\sqrt{n_p n_q}, & \\text{if $p > F$, $q > F$, $p \\neq q$} \\\\\n",
    "        0, & \\text{if $p = q$} \\\\\n",
    "  \\end{cases} \n",
    "\\end{equation*}\n",
    "\n",
    "with $F = \\mathbb{N}/2$ corresponding to the Fermi level and $\\mathbb{N}$ indicates the number of electrons. In addition, we also define the following auxiliary matrices:\n",
    "\\begin{equation*}\n",
    "    \\Delta_{pq} = \\begin{cases}\n",
    "        h_p h_q, & \\text{if $p \\leq F$, $q \\leq F$, $p \\neq q$} \\\\\n",
    "        \\left(\\frac{1-S_F}{S_F}\\right) h_p n_q, & \\text{if $p \\leq F$, $q > F$}\\\\\n",
    "        \\left(\\frac{1-S_F}{S_F}\\right) n_p h_q, & \\text{if $p > F$, $q \\leq F$}\\\\\n",
    "        n_p n_q, & \\text{if $p > F$, $q > F$, $p \\neq q$} \\\\\n",
    "  \\end{cases} \n",
    "\\end{equation*}\n",
    "\n",
    "and\n",
    "\\begin{equation*}\n",
    "    S_F = \\sum_{p=1}^F h_p = \\sum_{p=F+1}^\\infty n_p\n",
    "\\end{equation*}\n",
    "\n",
    "We note that, for real orbitals, as used in this work, $L_{pq} = K_{pq}$."
   ]
  },
  {
   "cell_type": "markdown",
   "id": "9698c6a7-d02b-4ed5-8ef6-66e8d0779a00",
   "metadata": {},
   "source": [
    "Lets import some **libraries**"
   ]
  },
  {
   "cell_type": "code",
   "execution_count": 1,
   "id": "abd44ba3-6fd0-4308-8c42-dd7ab510282b",
   "metadata": {},
   "outputs": [],
   "source": [
    "import pennylane as qml\n",
    "from pennylane import numpy as pnp\n",
    "\n",
    "from pennylane import FermiC, FermiA\n",
    "from pennylane import jordan_wigner\n",
    "\n",
    "import jax\n",
    "from jax import numpy as jnp\n",
    "\n",
    "jax.config.update('jax_enable_x64', True)"
   ]
  },
  {
   "cell_type": "markdown",
   "id": "7e39cb4a-cded-4c66-8147-89fd0c9a69d6",
   "metadata": {},
   "source": [
    "For exemplification purposes, we define a **system**, in this case $H_2$ at the bonding distance. We also compute monoelectronic and bielectronic integrals, and other usefull data."
   ]
  },
  {
   "cell_type": "code",
   "execution_count": 2,
   "id": "5163b9f2-7fc3-44d0-8fac-4855694f7775",
   "metadata": {},
   "outputs": [],
   "source": [
    "symbols = [\"H\", \"H\"]\n",
    "geometry = pnp.array([[0.0, 0.0, 0.0], [0.7414, 0.0, 0.0]], requires_grad=False)\n",
    "\n",
    "mol = qml.qchem.Molecule(symbols, geometry, unit=\"angstrom\")\n",
    "core, h_MO, I_MO = qml.qchem.electron_integrals(mol)()\n",
    "E_nuc = core[0]\n",
    "\n",
    "norb = pnp.shape(h_MO)[0]\n",
    "qubits = 2*norb\n",
    "\n",
    "electrons = mol.n_electrons\n",
    "\n",
    "# Fermi level\n",
    "F = int(electrons/2)"
   ]
  },
  {
   "cell_type": "markdown",
   "id": "f8fed2d2-1336-4016-8e44-cc8972294e18",
   "metadata": {},
   "source": [
    "The **ansatz** is build using Hartree-Fock as reference state and a Double excitation gate. Other ansatz can be used for more complex systems."
   ]
  },
  {
   "cell_type": "code",
   "execution_count": 3,
   "id": "e92ca14f",
   "metadata": {},
   "outputs": [],
   "source": [
    "hf_state = [1]*electrons + [0]*(qubits-electrons)\n",
    "\n",
    "def ansatz(params):\n",
    "    qml.BasisState(hf_state, wires=range(4))\n",
    "    qml.DoubleExcitation(params, wires=[0, 1, 2, 3])"
   ]
  },
  {
   "cell_type": "markdown",
   "id": "85aa5252",
   "metadata": {},
   "source": [
    "We build the **operators to measure the 1RDM** ($\\Gamma^\\alpha$) and *map* to Pauli operators using Jordan-Wigner. Then we create a *circuit to measure the 1RDM*."
   ]
  },
  {
   "cell_type": "code",
   "execution_count": 4,
   "id": "98366169",
   "metadata": {},
   "outputs": [
    {
     "name": "stderr",
     "output_type": "stream",
     "text": [
      "An NVIDIA GPU may be present on this machine, but a CUDA-enabled jaxlib is not installed. Falling back to cpu.\n"
     ]
    }
   ],
   "source": [
    "rdm1_ops = []\n",
    "for p in range(0,norb):\n",
    "    for q in range(p,norb):\n",
    "        cpaq = jordan_wigner(0.5*(FermiC(2*p) * FermiA(2*q) + FermiC(2*q) * FermiA(2*p))).simplify()\n",
    "        #### set coefficients to jax reals to avoid warnings with complex zero values\n",
    "        coeffs = jnp.real(jnp.array(cpaq.terms()[0]))\n",
    "        obs = cpaq.terms()[1]\n",
    "        cpaq = coeffs[0]*obs[0]\n",
    "        for coeff, op in zip(coeffs[1:], obs[1:]):\n",
    "            cpaq += coeff*op\n",
    "        ####\n",
    "        rdm1_ops.append(cpaq)\n",
    "\n",
    "dev = qml.device(\"lightning.qubit\", wires=qubits)\n",
    "@qml.qnode(dev)\n",
    "def rdm1_circuit(params):\n",
    "    ansatz(params)\n",
    "    return [qml.expval(op) for op in rdm1_ops]"
   ]
  },
  {
   "cell_type": "markdown",
   "id": "1dc4fd26",
   "metadata": {},
   "source": [
    "The 1RDM is diagonalized to get the **natural orbital representation**"
   ]
  },
  {
   "cell_type": "code",
   "execution_count": 5,
   "id": "6b9dba50",
   "metadata": {},
   "outputs": [],
   "source": [
    "def get_no_on(rdm1):\n",
    "    \n",
    "    rdm1_aa = jnp.zeros((norb,norb))\n",
    "    \n",
    "    i = -1\n",
    "    for p in range(0,norb):\n",
    "        for q in range(p,norb):\n",
    "            i = i + 1\n",
    "            rdm1_aa = rdm1_aa.at[p,q].set(rdm1[i])        \n",
    "            rdm1_aa = rdm1_aa.at[q,p].set(rdm1[i])\n",
    "\n",
    "    n, vecs = jnp.linalg.eigh(rdm1_aa)\n",
    "\n",
    "    n = n[::-1]\n",
    "    vecs = vecs[:,::-1]\n",
    "\n",
    "    return n, vecs"
   ]
  },
  {
   "cell_type": "markdown",
   "id": "80a938f7",
   "metadata": {},
   "source": [
    "## PNOF4\n",
    "\n",
    "Here we implement a function that:\n",
    "  - Measure (or get) a 1RDM\n",
    "  - Diagonalize the 1RDM to generate occupation numbers and natural orbitals\n",
    "  - Transforms the integrals and compute $E_\\text{NOF}$"
   ]
  },
  {
   "cell_type": "code",
   "execution_count": 6,
   "id": "29fd3d15",
   "metadata": {},
   "outputs": [],
   "source": [
    "def E_PNOF4(params, rdm1=None):\n",
    "\n",
    "    if rdm1 is None:\n",
    "        rdm1 = rdm1_circuit(params)\n",
    "    n, vecs = get_no_on(rdm1)\n",
    "    h = 1 - n\n",
    "    \n",
    "    h_NO = jnp.einsum(\"ij,ip,jq->pq\",h_MO,vecs,vecs, optimize=True)\n",
    "    J_NO = jnp.einsum(\"ijkl,ip,jq,kq,lp->pq\",I_MO,vecs,vecs,vecs,vecs, optimize=True)\n",
    "    K_NO = jnp.einsum(\"ijkl,ip,jp,kq,lq->pq\",I_MO,vecs,vecs,vecs,vecs, optimize=True)  \n",
    "\n",
    "    S_F = jnp.sum(n[F:])\n",
    "\n",
    "    Delta = jnp.zeros((norb,norb))\n",
    "    for p in range(norb):\n",
    "        for q in range(norb):\n",
    "            val = 0\n",
    "            if(p < F and q < F):\n",
    "                val = h[q]*h[p]\n",
    "            if(p < F and q >= F):\n",
    "                val = (1-S_F)/S_F*n[q]*h[p]\n",
    "            if(p >= F and q < F):\n",
    "                val = (1-S_F)/S_F*h[q]*n[p]\n",
    "            if(p >= F and q >= F):\n",
    "                val = n[q]*n[p]\n",
    "            Delta = Delta.at[q,p].set(val)\n",
    "\n",
    "    Pi = jnp.zeros((norb,norb))\n",
    "    for p in range(norb):\n",
    "        for q in range(norb):\n",
    "            val = 0\n",
    "            if(p < F and q < F):\n",
    "                val = -jnp.sqrt(jnp.abs(h[q]*h[p]))\n",
    "            if(p < F and q >= F):\n",
    "                val = -jnp.sqrt(jnp.abs((n[q]*h[p]/S_F)*(n[p] - n[q] + n[q]*h[p]/S_F)))\n",
    "            if(p >= F and q < F):\n",
    "                val = -jnp.sqrt(jnp.abs((h[q]*n[p]/S_F)*(n[q] - n[p] + h[q]*n[p]/S_F)))\n",
    "            if(p >= F and q >= F):\n",
    "                val = jnp.sqrt(jnp.abs(n[q]*n[p]))\n",
    "            Pi = Pi.at[q,p].set(val)\n",
    "\n",
    "    E1 = 0\n",
    "    for p in range(norb):\n",
    "        E1 += 2*n[p]*h_NO[p,p]\n",
    "    for p in range(norb):\n",
    "        E1 += n[p]*J_NO[p,p]\n",
    "    \n",
    "    E2 = 0\n",
    "    for p in range(norb):\n",
    "        for q in range(norb):\n",
    "            if(p!=q):\n",
    "                E2 += (n[q]*n[p] - Delta[q,p])*(2*J_NO[p,q] - K_NO[p,q]) \n",
    "                E2 += Pi[q,p]*(K_NO[p,q])\n",
    "                                    \n",
    "    return E_nuc + E1 + E2"
   ]
  },
  {
   "cell_type": "markdown",
   "id": "a6d3f25e-758c-4458-8531-76a2c997f492",
   "metadata": {},
   "source": [
    "We give a value to the parameter. For $H_2$, the value that procduces the correct wavefunction is $\\theta=0.22501$."
   ]
  },
  {
   "cell_type": "code",
   "execution_count": 7,
   "id": "ac77c5a4-f73f-42ec-9f2a-82e3f6a1d29c",
   "metadata": {},
   "outputs": [],
   "source": [
    "params = 0.22501"
   ]
  },
  {
   "cell_type": "markdown",
   "id": "2d0d9de5-c987-447a-931e-98c82064d8f8",
   "metadata": {},
   "source": [
    "Finally, we evaluate $E_\\text{PNOF4}$"
   ]
  },
  {
   "cell_type": "code",
   "execution_count": 8,
   "id": "f5148b81",
   "metadata": {},
   "outputs": [
    {
     "data": {
      "text/plain": [
       "Array(-1.13726966, dtype=float64)"
      ]
     },
     "execution_count": 8,
     "metadata": {},
     "output_type": "execute_result"
    }
   ],
   "source": [
    "E_PNOF4(params)"
   ]
  },
  {
   "cell_type": "markdown",
   "id": "537e458d",
   "metadata": {},
   "source": [
    "and the gradient of ${d E_\\text{PNOF4}}/{d\\theta}$ at this parameter is:"
   ]
  },
  {
   "cell_type": "code",
   "execution_count": 9,
   "id": "97a34dd5",
   "metadata": {},
   "outputs": [
    {
     "data": {
      "text/plain": [
       "Array(-0.00091065, dtype=float64)"
      ]
     },
     "execution_count": 9,
     "metadata": {},
     "output_type": "execute_result"
    }
   ],
   "source": [
    "jax.grad(E_PNOF4)(params)"
   ]
  }
 ],
 "metadata": {
  "kernelspec": {
   "display_name": "qc",
   "language": "python",
   "name": "python3"
  },
  "language_info": {
   "codemirror_mode": {
    "name": "ipython",
    "version": 3
   },
   "file_extension": ".py",
   "mimetype": "text/x-python",
   "name": "python",
   "nbconvert_exporter": "python",
   "pygments_lexer": "ipython3",
   "version": "3.10.0"
  }
 },
 "nbformat": 4,
 "nbformat_minor": 5
}
