{
 "cells": [
  {
   "cell_type": "markdown",
   "id": "bac0d812-2ad1-4093-9185-640ec95e6c1c",
   "metadata": {},
   "source": [
    "# BBAC3-VQE\n",
    "\n",
    "Most common natural orbital functionals (NOFs) can be represented using the energy expression\n",
    "\\begin{equation*}\n",
    "  E = 2 \\sum_p n_p H_{pp} + \\sum_{pq} A_{pq} J_{qp} - \\sum_{pq} B_{pq} K_{qp} - \\sum_{pq} C_{pq} L_{qp}\n",
    "\\end{equation*}\n",
    "with $p$ and $q$ corresponding to spatial natural orbitals, and $n_p \\in [0,1]$ denoting the occupation number of the $p^{th}$-orbital. Complementary, the associated hole is given by $h_p = 1 - n_p$. These NOFs can be classified according to the integrals that appear in their functional expression.\n",
    "\n",
    "**BBAC3** is a $JK$-type functional with the following coefficients:\n",
    "\n",
    "\\begin{equation*}\n",
    "    A_{pq} = 2n_p n_q\n",
    "\\end{equation*}\n",
    "\n",
    "\\begin{equation*}\n",
    "    B_{pq} = \\begin{cases}\n",
    "        n_p n_q, & \\text{if $p \\leq F$, $q \\leq F$,  $p \\neq q$} \\\\\n",
    "        -\\sqrt{n_q n_p}, & \\text{if $p > F$, $q > F$, $p \\neq q$} \\\\\n",
    "        \\sqrt{n_p n_q} + [n_pn_q - \\sqrt{n_p n_q}]D_d(2n_p-1), & \\text{if $p = q$} \\\\\n",
    "        \\sqrt{n_p n_q} + [n_pn_q - \\sqrt{n_p n_q}]D_o(2n_p+2n_q-2), & \\text{otherwise} \\\\\n",
    "  \\end{cases}\n",
    "\\end{equation*}\n",
    "\n",
    "\\begin{equation*}\n",
    "    C_{pq} = 0\n",
    "\\end{equation*}\n",
    "\n",
    "with\n",
    "\\begin{eqnarray*}\n",
    "    D_{d/o}(x) &=& \\frac{p^2_{d/o}(x)}{1+p^2_{d/o}(x)} \\\\\n",
    "    p_{d/o}(x) &=& a_{d/o} x^2 (x^2-2) \\\\\n",
    "    a_{d} &=& 1.4423\\\\\n",
    "    a_{o} &=& 1.5552\n",
    "\\end{eqnarray*}"
   ]
  },
  {
   "cell_type": "markdown",
   "id": "9698c6a7-d02b-4ed5-8ef6-66e8d0779a00",
   "metadata": {},
   "source": [
    "We start by importing some **libraries**"
   ]
  },
  {
   "cell_type": "code",
   "execution_count": 14,
   "id": "abd44ba3-6fd0-4308-8c42-dd7ab510282b",
   "metadata": {},
   "outputs": [],
   "source": [
    "import pennylane as qml\n",
    "from pennylane import numpy as pnp\n",
    "\n",
    "from pennylane import FermiC, FermiA\n",
    "from pennylane import jordan_wigner\n",
    "\n",
    "import jax\n",
    "from jax import numpy as jnp\n",
    "\n",
    "jax.config.update(\"jax_enable_x64\", True)"
   ]
  },
  {
   "cell_type": "markdown",
   "id": "7e39cb4a-cded-4c66-8147-89fd0c9a69d6",
   "metadata": {},
   "source": [
    "For exemplification purposes, we define a **system**, in this case $H_2$ at the bonding distance. We also compute monoelectronic and bielectronic integrals and other useful data."
   ]
  },
  {
   "cell_type": "code",
   "execution_count": 15,
   "id": "5163b9f2-7fc3-44d0-8fac-4855694f7775",
   "metadata": {},
   "outputs": [],
   "source": [
    "symbols = [\"H\", \"H\"]\n",
    "geometry = pnp.array([[0.0, 0.0, 0.0], [0.7414, 0.0, 0.0]], requires_grad=False)\n",
    "\n",
    "mol = qml.qchem.Molecule(symbols, geometry, unit=\"angstrom\")\n",
    "core, h_MO, I_MO = qml.qchem.electron_integrals(mol)()\n",
    "E_nuc = core[0]\n",
    "\n",
    "norb = pnp.shape(h_MO)[0]\n",
    "qubits = 2 * norb\n",
    "\n",
    "electrons = mol.n_electrons\n",
    "\n",
    "# Fermi level\n",
    "F = int(electrons / 2)"
   ]
  },
  {
   "cell_type": "markdown",
   "id": "f8fed2d2-1336-4016-8e44-cc8972294e18",
   "metadata": {},
   "source": [
    "The **ansatz** is built using Hartree-Fock as the reference state and a double excitation gate. Other ansatz can be used for more complex systems."
   ]
  },
  {
   "cell_type": "code",
   "execution_count": 16,
   "id": "e92ca14f",
   "metadata": {},
   "outputs": [],
   "source": [
    "hf_state = [1] * electrons + [0] * (qubits - electrons)\n",
    "\n",
    "def ansatz(params):\n",
    "    qml.BasisState(hf_state, wires=range(4))\n",
    "    qml.DoubleExcitation(params, wires=[0, 1, 2, 3])"
   ]
  },
  {
   "cell_type": "markdown",
   "id": "85aa5252",
   "metadata": {},
   "source": [
    "We build the second quantization **operators for the 1RDM** and **map** them to Pauli operators using Jordan-Wigner. Then we create a **circuit to measure the 1RDM**.\n",
    "\n",
    "Note that we are actually measuring the triangular part of $\\Gamma^\\alpha$ and ensuring to be in the domain of reals:\n",
    "\\begin{equation*}\n",
    "\\hat{\\Gamma}^\\alpha_{qp} = \\frac{\\hat{a}_{2q}^\\dagger \\hat{a}_{2p} + \\hat{a}_{2p}^\\dagger \\hat{a}_{2q}}{2}   \n",
    "\\end{equation*}"
   ]
  },
  {
   "cell_type": "code",
   "execution_count": 17,
   "id": "98366169",
   "metadata": {},
   "outputs": [],
   "source": [
    "rdm1_ops = []\n",
    "for p in range(0, norb):\n",
    "    for q in range(p, norb):\n",
    "        cpaq = jordan_wigner(0.5 * (FermiC(2 * p) * FermiA(2 * q) + FermiC(2 * q) * FermiA(2 * p))).simplify()\n",
    "        #### everything is real by construction\n",
    "        #### cast coefficients to jax reals to avoid warnings with zero values in imaginary parts\n",
    "        coeffs = jnp.real(jnp.array(cpaq.terms()[0]))\n",
    "        obs = cpaq.terms()[1]\n",
    "        cpaq = coeffs[0] * obs[0]\n",
    "        for coeff, op in zip(coeffs[1:], obs[1:]):\n",
    "            cpaq += coeff * op\n",
    "        ####\n",
    "        rdm1_ops.append(cpaq)\n",
    "\n",
    "dev = qml.device(\"lightning.qubit\", wires=qubits)\n",
    "\n",
    "@qml.qnode(dev)\n",
    "def rdm1_circuit(params):\n",
    "    ansatz(params)\n",
    "    return [qml.expval(op) for op in rdm1_ops]"
   ]
  },
  {
   "cell_type": "markdown",
   "id": "1dc4fd26",
   "metadata": {},
   "source": [
    "The 1RDM is diagonalized to get the **natural orbital representation**"
   ]
  },
  {
   "cell_type": "code",
   "execution_count": 18,
   "id": "6b9dba50",
   "metadata": {},
   "outputs": [],
   "source": [
    "def get_no_on(rdm1):\n",
    "\n",
    "    rdm1_aa = jnp.zeros((norb, norb))\n",
    "\n",
    "    i = -1\n",
    "    for p in range(0, norb):\n",
    "        for q in range(p, norb):\n",
    "            i = i + 1\n",
    "            rdm1_aa = rdm1_aa.at[p, q].set(rdm1[i])\n",
    "            rdm1_aa = rdm1_aa.at[q, p].set(rdm1[i])\n",
    "\n",
    "    n, vecs = jnp.linalg.eigh(rdm1_aa)\n",
    "\n",
    "    n = n[::-1]\n",
    "    vecs = vecs[:, ::-1]\n",
    "\n",
    "    return n, vecs"
   ]
  },
  {
   "cell_type": "markdown",
   "id": "80a938f7",
   "metadata": {},
   "source": [
    "## BBAC3\n",
    "\n",
    "Here, we implement a function that:\n",
    "  - Measures (or receives) a 1RDM\n",
    "  - Diagonalizes the 1RDM to generate occupation numbers and natural orbitals\n",
    "  - Transforms the integrals and computes $E_\\text{NOF}$"
   ]
  },
  {
   "cell_type": "code",
   "execution_count": 19,
   "id": "29fd3d15",
   "metadata": {},
   "outputs": [],
   "source": [
    "def E_BBAC3(params, rdm1=None):\n",
    "\n",
    "    if rdm1 is None:\n",
    "        rdm1 = rdm1_circuit(params)\n",
    "    n, vecs = get_no_on(rdm1)\n",
    "\n",
    "    h_NO = jnp.einsum(\"ij,ip,jq->pq\", h_MO, vecs, vecs, optimize=True)\n",
    "    J_NO = jnp.einsum(\"ijkl,ip,jq,kq,lp->pq\", I_MO, vecs, vecs, vecs, vecs, optimize=True)\n",
    "    K_NO = jnp.einsum(\"ijkl,ip,jp,kq,lq->pq\", I_MO, vecs, vecs, vecs, vecs, optimize=True)\n",
    "\n",
    "    a_d = 1.4423\n",
    "    a_o = 1.5552\n",
    "\n",
    "    def P_BBAC3(a, x):\n",
    "        return a * x**2 * (x**2 - 2)\n",
    "\n",
    "    def D_BBAC3(a, x):\n",
    "        P = P_BBAC3(a, x)\n",
    "        return P**2 / (1 + P**2)\n",
    "\n",
    "    C = jnp.zeros((norb, norb))\n",
    "    for p in range(F, norb):\n",
    "        for q in range(F, norb):\n",
    "            C = C.at[p, q].set(2 * jnp.sqrt(jnp.abs(n[q] * n[p])) + 2 * n[q] * n[p])\n",
    "    for p in range(F):\n",
    "        for q in range(F):\n",
    "            C = C.at[p, q].set(-2 * jnp.sqrt(jnp.abs(n[q] * n[p])) + 2 * n[q] * n[p])\n",
    "    for p in range(F):\n",
    "        for q in range(F, norb):\n",
    "            C = C.at[p, q].set(-2 * jnp.sqrt(jnp.abs(n[q] * n[p])) + 2 * n[q] * n[p])\n",
    "            C = C.at[q, p].set(-2 * jnp.sqrt(jnp.abs(n[p] * n[q])) + 2 * n[p] * n[q])\n",
    "    for p in range(norb):\n",
    "        C = C.at[p, p].set(-2 * jnp.sqrt(jnp.abs(n[p] * n[p])) + 2 * n[p] * n[p])\n",
    "\n",
    "    D = jnp.zeros((norb, norb))\n",
    "    for p in range(F):\n",
    "        for q in range(F):\n",
    "            D = D.at[p, q].set(1)\n",
    "    for p in range(norb):\n",
    "        D = D.at[p, p].set(D_BBAC3(a_d, 2 * n[p] - 1))\n",
    "    for p in range(F):\n",
    "        for q in range(F, norb):\n",
    "            D = D.at[p, q].set(D_BBAC3(a_o, 2 * n[p] + 2 * n[q] - 2))\n",
    "            D = D.at[q, p].set(D_BBAC3(a_o, 2 * n[q] + 2 * n[p] - 2))\n",
    "\n",
    "    B = (1 - D) * C\n",
    "\n",
    "    E1 = 0\n",
    "    for p in range(norb):\n",
    "        E1 += 2 * n[p] * h_NO[p, p]\n",
    "\n",
    "    E2 = 0\n",
    "    for p in range(norb):\n",
    "        for q in range(norb):\n",
    "            E2 += 2 * n[q] * n[p] * J_NO[p, q] + 1 / 2 * (-2 * n[p] * n[q] + B[q, p]) * K_NO[p, q]\n",
    "\n",
    "    return E_nuc + E1 + E2\n"
   ]
  },
  {
   "cell_type": "markdown",
   "id": "a6d3f25e-758c-4458-8531-76a2c997f492",
   "metadata": {},
   "source": [
    "We assign a **value to the parameter**. For $H_2$, the value corresponding to the *exact* wavefunction is $\\theta=0.22501$."
   ]
  },
  {
   "cell_type": "code",
   "execution_count": 20,
   "id": "ac77c5a4-f73f-42ec-9f2a-82e3f6a1d29c",
   "metadata": {},
   "outputs": [],
   "source": [
    "params = 0.22501"
   ]
  },
  {
   "cell_type": "markdown",
   "id": "2d0d9de5-c987-447a-931e-98c82064d8f8",
   "metadata": {},
   "source": [
    "Finally, we evaluate the **energy** $E_\\text{BBAC3}$"
   ]
  },
  {
   "cell_type": "code",
   "execution_count": 21,
   "id": "f5148b81",
   "metadata": {},
   "outputs": [
    {
     "data": {
      "text/plain": [
       "Array(-1.12687652, dtype=float64)"
      ]
     },
     "execution_count": 21,
     "metadata": {},
     "output_type": "execute_result"
    }
   ],
   "source": [
    "E_BBAC3(params)"
   ]
  },
  {
   "cell_type": "markdown",
   "id": "537e458d",
   "metadata": {},
   "source": [
    "The **gradient** of ${d E_\\text{BBAC3}}/{d\\theta}$ at this value is"
   ]
  },
  {
   "cell_type": "code",
   "execution_count": 22,
   "id": "97a34dd5",
   "metadata": {},
   "outputs": [
    {
     "data": {
      "text/plain": [
       "Array(0.08957882, dtype=float64)"
      ]
     },
     "execution_count": 22,
     "metadata": {},
     "output_type": "execute_result"
    }
   ],
   "source": [
    "jax.grad(E_BBAC3)(params)"
   ]
  },
  {
   "cell_type": "markdown",
   "id": "4d86a733",
   "metadata": {},
   "source": [
    "## Minimization\n",
    "\n",
    "In the following we define the VQE and optimize the parameter starting with a guess value using $E_\\text{BBAC3}$ as the objective value."
   ]
  },
  {
   "cell_type": "code",
   "execution_count": 23,
   "id": "e37798aa",
   "metadata": {},
   "outputs": [],
   "source": [
    "import matplotlib.pyplot as plt\n",
    "import optax\n",
    "\n",
    "max_iterations = 1000\n",
    "conv_tol = 1e-3"
   ]
  },
  {
   "cell_type": "code",
   "execution_count": 24,
   "id": "725d88cd",
   "metadata": {},
   "outputs": [],
   "source": [
    "def vqe(E_fn, params):\n",
    "    opt = optax.sgd(learning_rate=0.1)\n",
    "    opt_state = opt.init(params)\n",
    "\n",
    "    E_history = [E_fn(params)]\n",
    "    params_history = [params]\n",
    "\n",
    "    for it in range(max_iterations):\n",
    "\n",
    "        gradient = jax.grad(E_fn)(params)\n",
    "\n",
    "        updates, opt_state = opt.update(gradient, opt_state)\n",
    "        params = optax.apply_updates(params, updates)\n",
    "\n",
    "        params_history.append(params)\n",
    "        E_history.append(E_fn(params))\n",
    "\n",
    "        g_maxabs = jnp.max(jnp.abs(gradient))\n",
    "\n",
    "        print(f\"Step = {it},  Energy = {E_history[-1]:.8f} Ha,  Gradient = {g_maxabs:.1e}\")\n",
    "\n",
    "        if g_maxabs <= conv_tol:\n",
    "            break\n",
    "\n",
    "    return E_history, params_history"
   ]
  },
  {
   "cell_type": "code",
   "execution_count": 25,
   "id": "fdb24d7c",
   "metadata": {},
   "outputs": [
    {
     "name": "stdout",
     "output_type": "stream",
     "text": [
      "Step = 0,  Energy = -1.12910227 Ha,  Gradient = 6.0e-02\n",
      "Step = 1,  Energy = -1.12936502 Ha,  Gradient = 5.3e-02\n",
      "Step = 2,  Energy = -1.12956800 Ha,  Gradient = 4.6e-02\n",
      "Step = 3,  Energy = -1.12972483 Ha,  Gradient = 4.1e-02\n",
      "Step = 4,  Energy = -1.12984601 Ha,  Gradient = 3.6e-02\n",
      "Step = 5,  Energy = -1.12993966 Ha,  Gradient = 3.2e-02\n",
      "Step = 6,  Energy = -1.13001204 Ha,  Gradient = 2.8e-02\n",
      "Step = 7,  Energy = -1.13006800 Ha,  Gradient = 2.4e-02\n",
      "Step = 8,  Energy = -1.13011125 Ha,  Gradient = 2.1e-02\n",
      "Step = 9,  Energy = -1.13014469 Ha,  Gradient = 1.9e-02\n",
      "Step = 10,  Energy = -1.13017055 Ha,  Gradient = 1.7e-02\n",
      "Step = 11,  Energy = -1.13019054 Ha,  Gradient = 1.5e-02\n",
      "Step = 12,  Energy = -1.13020601 Ha,  Gradient = 1.3e-02\n",
      "Step = 13,  Energy = -1.13021796 Ha,  Gradient = 1.1e-02\n",
      "Step = 14,  Energy = -1.13022721 Ha,  Gradient = 9.9e-03\n",
      "Step = 15,  Energy = -1.13023436 Ha,  Gradient = 8.7e-03\n",
      "Step = 16,  Energy = -1.13023990 Ha,  Gradient = 7.7e-03\n",
      "Step = 17,  Energy = -1.13024418 Ha,  Gradient = 6.7e-03\n",
      "Step = 18,  Energy = -1.13024749 Ha,  Gradient = 5.9e-03\n",
      "Step = 19,  Energy = -1.13025005 Ha,  Gradient = 5.2e-03\n",
      "Step = 20,  Energy = -1.13025203 Ha,  Gradient = 4.6e-03\n",
      "Step = 21,  Energy = -1.13025356 Ha,  Gradient = 4.0e-03\n",
      "Step = 22,  Energy = -1.13025475 Ha,  Gradient = 3.6e-03\n",
      "Step = 23,  Energy = -1.13025566 Ha,  Gradient = 3.1e-03\n",
      "Step = 24,  Energy = -1.13025637 Ha,  Gradient = 2.7e-03\n",
      "Step = 25,  Energy = -1.13025692 Ha,  Gradient = 2.4e-03\n",
      "Step = 26,  Energy = -1.13025735 Ha,  Gradient = 2.1e-03\n",
      "Step = 27,  Energy = -1.13025768 Ha,  Gradient = 1.9e-03\n",
      "Step = 28,  Energy = -1.13025793 Ha,  Gradient = 1.6e-03\n",
      "Step = 29,  Energy = -1.13025813 Ha,  Gradient = 1.4e-03\n",
      "Step = 30,  Energy = -1.13025828 Ha,  Gradient = 1.3e-03\n",
      "Step = 31,  Energy = -1.13025840 Ha,  Gradient = 1.1e-03\n",
      "Step = 32,  Energy = -1.13025849 Ha,  Gradient = 9.8e-04\n"
     ]
    }
   ],
   "source": [
    "E_history, params_history = vqe(E_BBAC3, 0.1)"
   ]
  },
  {
   "cell_type": "code",
   "execution_count": 26,
   "id": "90370330",
   "metadata": {},
   "outputs": [
    {
     "data": {
      "text/plain": [
       "<matplotlib.legend.Legend at 0x7411cbdc7190>"
      ]
     },
     "execution_count": 26,
     "metadata": {},
     "output_type": "execute_result"
    },
    {
     "data": {
      "image/png": "[encoded data removed]",
      "text/plain": [
       "<Figure size 640x480 with 1 Axes>"
      ]
     },
     "metadata": {},
     "output_type": "display_data"
    }
   ],
   "source": [
    "plt.plot(E_history, \"o\", label=\"BBAC3-VQE\")\n",
    "plt.hlines(-1.137270174657105, 0, len(E_history), color=\"red\", label = \"FCI\")\n",
    "plt.xlabel(\"Iterations\")\n",
    "plt.ylabel(r\"Energy ($E_\\text{h}$)\")\n",
    "plt.legend()"
   ]
  },
  {
   "cell_type": "markdown",
   "id": "dffb4612",
   "metadata": {},
   "source": [
    "## Authors\n",
    "\n",
    "- Ph.D. Juan Felipe Huan Lew-Yee (felipe.lew.yee@dipc.org)\n",
    "  - Donostia International Physics Center (DIPC)\n",
    "- Prof. Mario Piris (mario.piris@ehu.es)\n",
    "  - Donostia International Physics Center (DIPC)\n",
    "  - Euskal Herriko Unibertsitatea (UPV/EHU)\n",
    "  - Basque Foundation for Science (Ikerbasque)\n",
    "\n",
    "## Acknowldgments\n",
    "\n",
    "- J. F. H. Lew-Yee acknowledges the **Donostia International Physics Center (DIPC)** and the **Ministerio de Ciencia, Innovación y Universidades (MCIN) program Severo Ochoa** and **Agencia Estatal de Investigación (AEI)** under reference AEI/CEX2018-000867-S for post-doctoral funding (Ref.: 2023/74.)\n",
    "\n",
    "- M. Piris acknowledges **MCIN** and **AEI** funding from MCIN/AEI/10.13039/501100011033 (Ref.: PID2021-126714 NB-I00) and the **Eusko Jaurlaritza** (Ref.: IT1584-22).\n",
    "\n",
    "- The authors acknowledge the technical and human support provided by the **DIPC Supercomputing Center**.\n",
    "\n",
    "- This work has been possible thanks to the quantum resources and ecosystem provided through the **IBM-BasQ** alliance for the development of quantum technologies.\n",
    "\n",
    "## GitHub:\n",
    "\n",
    "https://github.com/felipelewyee/NOF-VQE"
   ]
  }
 ],
 "metadata": {
  "kernelspec": {
   "display_name": "qc39",
   "language": "python",
   "name": "python3"
  },
  "language_info": {
   "codemirror_mode": {
    "name": "ipython",
    "version": 3
   },
   "file_extension": ".py",
   "mimetype": "text/x-python",
   "name": "python",
   "nbconvert_exporter": "python",
   "pygments_lexer": "ipython3",
   "version": "3.10.0"
  }
 },
 "nbformat": 4,
 "nbformat_minor": 5
}
